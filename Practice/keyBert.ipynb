{
 "cells": [
  {
   "cell_type": "markdown",
   "metadata": {},
   "source": [
    "%pip install keybert\n",
    "\n",
    "%pip install keybert[flair]\n",
    "%pip install keybert[gensim]\n",
    "%pip install keybert[spacy]\n",
    "%pip install keybert[use]"
   ]
  },
  {
   "cell_type": "code",
   "execution_count": 16,
   "metadata": {},
   "outputs": [],
   "source": [
    "from keybert import KeyBERT\n",
    "\n",
    "doc = \"\"\"\n",
    "framework for Semantic and Sentiment Analysis:\n",
    "• Data Processing: Convert PDF files of Bhagavad Gita translations into text format.\n",
    "• Sentiment Analysis: Utilize the BERTbase model trained on the SenWave dataset for multi-label\n",
    "sentiment classification of verses across translations. Hand-labeled sentiment data from the SenWave\n",
    "dataset provides nuanced sentiment labels.\n",
    "• Semantic Analysis: Employ the MPNet-base model for sentence embedding to analyze verse-by\u0002verse similarity and perform keyword extraction. Utilize the UMAP algorithm for dimensionality\n",
    "reduction.\n",
    "\"\"\"\n",
    "kw_model = KeyBERT()\n",
    "keywords = kw_model.extract_keywords(doc)"
   ]
  },
  {
   "cell_type": "code",
   "execution_count": 17,
   "metadata": {},
   "outputs": [
    {
     "data": {
      "text/html": [
       "<pre style=\"white-space:pre;overflow-x:auto;line-height:normal;font-family:Menlo,'DejaVu Sans Mono',consolas,'Courier New',monospace\">framework for <span style=\"color: #000000; text-decoration-color: #000000; background-color: #ffff00\">Semantic</span> and <span style=\"color: #000000; text-decoration-color: #000000; background-color: #ffff00\">Sentiment</span> Analysis Data Processing Convert PDF files of Bhagavad Gita translations into \n",
       "<span style=\"color: #000000; text-decoration-color: #000000; background-color: #ffff00\">text</span> format <span style=\"color: #000000; text-decoration-color: #000000; background-color: #ffff00\">Sentiment</span> Analysis Utilize the <span style=\"color: #000000; text-decoration-color: #000000; background-color: #ffff00\">BERTbase</span> model trained on the SenWave dataset for multi label <span style=\"color: #000000; text-decoration-color: #000000; background-color: #ffff00\">sentiment</span> \n",
       "classification of <span style=\"color: #000000; text-decoration-color: #000000; background-color: #ffff00\">verses</span> across translations Hand labeled <span style=\"color: #000000; text-decoration-color: #000000; background-color: #ffff00\">sentiment</span> data from the SenWave dataset provides nuanced \n",
       "<span style=\"color: #000000; text-decoration-color: #000000; background-color: #ffff00\">sentiment</span> labels <span style=\"color: #000000; text-decoration-color: #000000; background-color: #ffff00\">Semantic</span> Analysis Employ the MPNet base model for sentence embedding to analyze verse by verse \n",
       "similarity and perform keyword extraction Utilize the UMAP algorithm for dimensionality reduction\n",
       "</pre>\n"
      ],
      "text/plain": [
       "framework for \u001b[30;48;2;255;255;0mSemantic\u001b[0m and \u001b[30;48;2;255;255;0mSentiment\u001b[0m Analysis Data Processing Convert PDF files of Bhagavad Gita translations into \n",
       "\u001b[30;48;2;255;255;0mtext\u001b[0m format \u001b[30;48;2;255;255;0mSentiment\u001b[0m Analysis Utilize the \u001b[30;48;2;255;255;0mBERTbase\u001b[0m model trained on the SenWave dataset for multi label \u001b[30;48;2;255;255;0msentiment\u001b[0m \n",
       "classification of \u001b[30;48;2;255;255;0mverses\u001b[0m across translations Hand labeled \u001b[30;48;2;255;255;0msentiment\u001b[0m data from the SenWave dataset provides nuanced \n",
       "\u001b[30;48;2;255;255;0msentiment\u001b[0m labels \u001b[30;48;2;255;255;0mSemantic\u001b[0m Analysis Employ the MPNet base model for sentence embedding to analyze verse by verse \n",
       "similarity and perform keyword extraction Utilize the UMAP algorithm for dimensionality reduction\n"
      ]
     },
     "metadata": {},
     "output_type": "display_data"
    }
   ],
   "source": [
    "keywords = kw_model.extract_keywords(doc, highlight=True)"
   ]
  },
  {
   "cell_type": "code",
   "execution_count": 18,
   "metadata": {},
   "outputs": [
    {
     "data": {
      "text/plain": [
       "[('learning', 1),\n",
       " ('algorithm', 1),\n",
       " ('training', 1),\n",
       " ('class', 1),\n",
       " ('mapping', 1)]"
      ]
     },
     "execution_count": 18,
     "metadata": {},
     "output_type": "execute_result"
    }
   ],
   "source": [
    "kw_model.extract_keywords(doc, keyphrase_ngram_range=(1, 1), stop_words=None)\n",
    "[('learning', 1),\n",
    " ('algorithm', 1),\n",
    " ('training', 1),\n",
    " ('class', 1),\n",
    " ('mapping', 1)]"
   ]
  },
  {
   "cell_type": "code",
   "execution_count": 19,
   "metadata": {},
   "outputs": [
    {
     "data": {
      "text/plain": [
       "[('learning algorithm', 1),\n",
       " ('machine learning', 1),\n",
       " ('supervised learning', 1),\n",
       " ('algorithm analyzes', 1),\n",
       " ('learning function', 1)]"
      ]
     },
     "execution_count": 19,
     "metadata": {},
     "output_type": "execute_result"
    }
   ],
   "source": [
    "kw_model.extract_keywords(doc, keyphrase_ngram_range=(1, 2), stop_words=None)\n",
    "[('learning algorithm', 1),\n",
    " ('machine learning', 1),\n",
    " ('supervised learning', 1),\n",
    " ('algorithm analyzes', 1),\n",
    " ('learning function', 1)]"
   ]
  },
  {
   "cell_type": "code",
   "execution_count": 20,
   "metadata": {},
   "outputs": [
    {
     "data": {
      "text/html": [
       "<pre style=\"white-space:pre;overflow-x:auto;line-height:normal;font-family:Menlo,'DejaVu Sans Mono',consolas,'Courier New',monospace\">framework for <span style=\"color: #000000; text-decoration-color: #000000; background-color: #ffff00\">Semantic</span> and <span style=\"color: #000000; text-decoration-color: #000000; background-color: #ffff00\">Sentiment</span> Analysis Data Processing Convert PDF files of Bhagavad Gita translations into \n",
       "<span style=\"color: #000000; text-decoration-color: #000000; background-color: #ffff00\">text</span> format <span style=\"color: #000000; text-decoration-color: #000000; background-color: #ffff00\">Sentiment</span> Analysis Utilize the <span style=\"color: #000000; text-decoration-color: #000000; background-color: #ffff00\">BERTbase</span> model trained on the SenWave dataset for multi label <span style=\"color: #000000; text-decoration-color: #000000; background-color: #ffff00\">sentiment</span> \n",
       "classification of <span style=\"color: #000000; text-decoration-color: #000000; background-color: #ffff00\">verses</span> across translations Hand labeled <span style=\"color: #000000; text-decoration-color: #000000; background-color: #ffff00\">sentiment</span> data from the SenWave dataset provides nuanced \n",
       "<span style=\"color: #000000; text-decoration-color: #000000; background-color: #ffff00\">sentiment</span> labels <span style=\"color: #000000; text-decoration-color: #000000; background-color: #ffff00\">Semantic</span> Analysis Employ the MPNet base model for sentence embedding to analyze verse by verse \n",
       "similarity and perform keyword extraction Utilize the UMAP algorithm for dimensionality reduction\n",
       "</pre>\n"
      ],
      "text/plain": [
       "framework for \u001b[30;48;2;255;255;0mSemantic\u001b[0m and \u001b[30;48;2;255;255;0mSentiment\u001b[0m Analysis Data Processing Convert PDF files of Bhagavad Gita translations into \n",
       "\u001b[30;48;2;255;255;0mtext\u001b[0m format \u001b[30;48;2;255;255;0mSentiment\u001b[0m Analysis Utilize the \u001b[30;48;2;255;255;0mBERTbase\u001b[0m model trained on the SenWave dataset for multi label \u001b[30;48;2;255;255;0msentiment\u001b[0m \n",
       "classification of \u001b[30;48;2;255;255;0mverses\u001b[0m across translations Hand labeled \u001b[30;48;2;255;255;0msentiment\u001b[0m data from the SenWave dataset provides nuanced \n",
       "\u001b[30;48;2;255;255;0msentiment\u001b[0m labels \u001b[30;48;2;255;255;0mSemantic\u001b[0m Analysis Employ the MPNet base model for sentence embedding to analyze verse by verse \n",
       "similarity and perform keyword extraction Utilize the UMAP algorithm for dimensionality reduction\n"
      ]
     },
     "metadata": {},
     "output_type": "display_data"
    }
   ],
   "source": [
    "keywords = kw_model.extract_keywords(doc, highlight=True)"
   ]
  }
 ],
 "metadata": {
  "kernelspec": {
   "display_name": "Python 3",
   "language": "python",
   "name": "python3"
  },
  "language_info": {
   "codemirror_mode": {
    "name": "ipython",
    "version": 3
   },
   "file_extension": ".py",
   "mimetype": "text/x-python",
   "name": "python",
   "nbconvert_exporter": "python",
   "pygments_lexer": "ipython3",
   "version": "3.11.2"
  }
 },
 "nbformat": 4,
 "nbformat_minor": 2
}
